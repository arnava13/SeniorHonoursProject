{
 "cells": [
  {
   "cell_type": "markdown",
   "metadata": {
    "id": "b2-LDl_8Nai6"
   },
   "source": [
    "# Classification of power spectra with BaCoN\n",
    "\n",
    "This notebook shows how to classify a dark matter PS using the pre-trained BaCoN. It can be used to classify any new spectrum. See the data description for the format required"
   ]
  },
  {
   "cell_type": "code",
   "execution_count": 1,
   "metadata": {
    "colab": {
     "base_uri": "https://localhost:8080/"
    },
    "executionInfo": {
     "elapsed": 23350,
     "status": "ok",
     "timestamp": 1692148909439,
     "user": {
      "displayName": "Linus Thel",
      "userId": "02046882282261602929"
     },
     "user_tz": -120
    },
    "id": "q5d65QPx5rmq",
    "outputId": "f9cff88b-dcac-4f4b-dc10-d04ecfc7145d"
   },
   "outputs": [
    {
     "name": "stdout",
     "output_type": "stream",
     "text": [
      "Mounted at /content/drive\n"
     ]
    }
   ],
   "source": [
    "from google.colab import drive\n",
    "drive.mount('/content/drive')"
   ]
  },
  {
   "cell_type": "markdown",
   "metadata": {
    "id": "Flvg9eICNhqn"
   },
   "source": [
    "## Load the code\n",
    "\n",
    "Here we mount the drive and import BaCoN. If running on your machine, be sure to have tensorflow2 and tensorflow probability installed and jump directly to the imports."
   ]
  },
  {
   "cell_type": "code",
   "execution_count": 2,
   "metadata": {
    "colab": {
     "base_uri": "https://localhost:8080/"
    },
    "executionInfo": {
     "elapsed": 4,
     "status": "ok",
     "timestamp": 1692148912782,
     "user": {
      "displayName": "Linus Thel",
      "userId": "02046882282261602929"
     },
     "user_tz": -120
    },
    "id": "LzX4nFm1BQqd",
    "outputId": "14a7e5df-ea49-4d3b-ec98-696b139344f8"
   },
   "outputs": [
    {
     "name": "stdout",
     "output_type": "stream",
     "text": [
      "/content/drive/MyDrive/BaCoN-CSZ-test\n"
     ]
    }
   ],
   "source": [
    "%cd /content/drive/MyDrive/BaCoN-II"
   ]
  },
  {
   "cell_type": "markdown",
   "metadata": {
    "id": "EVBtCPaWw60R"
   },
   "source": [
    "## Run training in shell\n",
    "only do this when not loading trained network"
   ]
  },
  {
   "cell_type": "code",
   "execution_count": 3,
   "metadata": {
    "colab": {
     "base_uri": "https://localhost:8080/"
    },
    "executionInfo": {
     "elapsed": 14175,
     "status": "ok",
     "timestamp": 1692148929898,
     "user": {
      "displayName": "Linus Thel",
      "userId": "02046882282261602929"
     },
     "user_tz": -120
    },
    "id": "HamIuy_Qx2cf",
    "outputId": "b3bfe4f5-ac48-42e0-9885-8f6fda2c3e22"
   },
   "outputs": [
    {
     "name": "stdout",
     "output_type": "stream",
     "text": [
      "\u001b[2K     \u001b[90m━━━━━━━━━━━━━━━━━━━━━━━━━━━━━━━━━━━━━━━━\u001b[0m \u001b[32m16.2/16.2 MB\u001b[0m \u001b[31m5.5 MB/s\u001b[0m eta \u001b[36m0:00:00\u001b[0m\n",
      "\u001b[2K     \u001b[90m━━━━━━━━━━━━━━━━━━━━━━━━━━━━━━━━━━━━━━\u001b[0m \u001b[32m115.3/115.3 kB\u001b[0m \u001b[31m13.1 MB/s\u001b[0m eta \u001b[36m0:00:00\u001b[0m\n",
      "\u001b[2K     \u001b[90m━━━━━━━━━━━━━━━━━━━━━━━━━━━━━━━━━━━━━━━━\u001b[0m \u001b[32m1.2/1.2 MB\u001b[0m \u001b[31m53.8 MB/s\u001b[0m eta \u001b[36m0:00:00\u001b[0m\n",
      "\u001b[?25h  Preparing metadata (setup.py) ... \u001b[?25l\u001b[?25hdone\n",
      "  Preparing metadata (setup.py) ... \u001b[?25l\u001b[?25hdone\n",
      "  Building wheel for interlap (setup.py) ... \u001b[?25l\u001b[?25hdone\n",
      "  Building wheel for luigi (setup.py) ... \u001b[?25l\u001b[?25hdone\n",
      "lib5c\n",
      "version\n",
      "0.6.1\n"
     ]
    }
   ],
   "source": [
    "!pip install -q lib5c\n",
    "!lib5c -v"
   ]
  },
  {
   "cell_type": "code",
   "execution_count": 4,
   "metadata": {
    "executionInfo": {
     "elapsed": 7174,
     "status": "ok",
     "timestamp": 1692148937067,
     "user": {
      "displayName": "Linus Thel",
      "userId": "02046882282261602929"
     },
     "user_tz": -120
    },
    "id": "gv8_CyoHB0_Y"
   },
   "outputs": [],
   "source": [
    "import os; #os.chdir('/content/drive/MyDrive/BaCoN-master/')\n",
    "import subprocess\n",
    "import argparse\n",
    "from test import *\n",
    "from utils import *\n",
    "from models import *\n",
    "from data_generator import *\n",
    "from train import *"
   ]
  },
  {
   "cell_type": "code",
   "execution_count": 5,
   "metadata": {
    "executionInfo": {
     "elapsed": 725,
     "status": "ok",
     "timestamp": 1692148937784,
     "user": {
      "displayName": "Linus Thel",
      "userId": "02046882282261602929"
     },
     "user_tz": -120
    },
    "id": "ex2LIYxl6cjV"
   },
   "outputs": [],
   "source": [
    "from importer import load_model_for_test, my_predict, predict_bayes_label, predict_mean_proba"
   ]
  },
  {
   "cell_type": "code",
   "execution_count": 6,
   "metadata": {
    "executionInfo": {
     "elapsed": 9,
     "status": "ok",
     "timestamp": 1692148937785,
     "user": {
      "displayName": "Linus Thel",
      "userId": "02046882282261602929"
     },
     "user_tz": -120
    },
    "id": "Oaw1mzZqTsnu"
   },
   "outputs": [],
   "source": [
    "import matplotlib.pyplot as plt\n",
    "plt.rcParams[\"font.family\"] = 'serif'\n",
    "plt.rcParams[\"mathtext.fontset\"] = \"cm\""
   ]
  },
  {
   "cell_type": "code",
   "execution_count": 7,
   "metadata": {
    "colab": {
     "base_uri": "https://localhost:8080/"
    },
    "executionInfo": {
     "elapsed": 503,
     "status": "ok",
     "timestamp": 1692148938282,
     "user": {
      "displayName": "Linus Thel",
      "userId": "02046882282261602929"
     },
     "user_tz": -120
    },
    "id": "fZiOh8u5QowF",
    "outputId": "7fac86db-8719-44f5-aef9-cc1a502326d0"
   },
   "outputs": [
    {
     "name": "stdout",
     "output_type": "stream",
     "text": [
      "planck_hmcode2020.txt  \u001b[0m\u001b[01;34mtest_sets_5_10\u001b[0m/  \u001b[01;34mtraining_sets_5_100\u001b[0m/\n"
     ]
    }
   ],
   "source": [
    "%ls data/"
   ]
  },
  {
   "cell_type": "markdown",
   "metadata": {
    "id": "SXuIOzFXFQL9"
   },
   "source": [
    "### set parameters for training"
   ]
  },
  {
   "cell_type": "code",
   "execution_count": 9,
   "metadata": {
    "executionInfo": {
     "elapsed": 2,
     "status": "ok",
     "timestamp": 1692149083692,
     "user": {
      "displayName": "Linus Thel",
      "userId": "02046882282261602929"
     },
     "user_tz": -120
    },
    "id": "w8B1FUswFQL9",
    "scrolled": true
   },
   "outputs": [],
   "source": [
    "# Training options:\n",
    "\n",
    "# ------------------ change the training directory and model name here ------------------\n",
    "\n",
    "# training data directory path - uncomment ONE of the following four lines\n",
    "## (batch size, is a multiple of #models * noise realisations, e.g. 5 models, 10 noise --> must be multiple of 50)\n",
    "DIR='data/train_5_classes_100'; batch_size='500'; train_fname = 'train_100' # 100 examples per class, batch size for 5 models, 10 noise\n",
    "#DIR='data/train_5_classes_1k'; batch_size='2500'; train_fname = 'train_1k' # 1000 examples per class, batch size for 5 models, 10 noise\n",
    "#DIR='data/test_5_classes_1k'; batch_size='2500'; train_fname = 'test_1k' # 1000 examples per class, batch size for 5 models, 10 noise\n",
    "#DIR='data/test_5_classes_100'; batch_size='500'; train_fname = 'test_100' # 100 examples per class, batch size for 5 models, 10 noise\n",
    "\n",
    "# adapt the name of the\n",
    "fname = 'model_withBayes'\n",
    "fname = fname + '_' + train_fname\n",
    "\n",
    "# training the network\n",
    "GPU='False' # Use GPUs in training?\n",
    "# which kind of model\n",
    "bayesian='True' # Bayesian NN or traditional NN (weights single valued or distributions?)\n",
    "n_epochs='50' # How many epochs to train for?\n",
    "\n",
    "\n",
    "# ------------------ ignore all the other parameters for now ------------------\n",
    "\n",
    "# Directories\n",
    "mypath=None # Parent directory\n",
    "\n",
    "# Edit this with base model directory\n",
    "mdir='models/'\n",
    "\n",
    "# normalisation file\n",
    "norm_data_name = '/planck_ee2.txt'\n",
    "\n",
    "# scale cut and resolution\n",
    "k_max='2.5' # which k-modes to include?\n",
    "sample_pace='4'\n",
    "\n",
    "# should the processed curves be saved in an extra file (False recommended, only efficient for n_epochs = 1)\n",
    "save_processed_spectra='False' \n",
    "\n",
    "# -------------------- noise model --------------------\n",
    "\n",
    "# noise model - Cosmic variance and shot noise are Euclid-like\n",
    "n_noisy_samples='10' # How many noise examples to train on?\n",
    "add_noise='True'# Add noise?\n",
    "add_shot='False'# Add shot noise term? -- default should be False\n",
    "add_sys='True'# Add systematic error term?\n",
    "add_cosvar='True'# Add cosmic variance term?\n",
    "\n",
    "# path to folder with theory error curves\n",
    "curves_folder = 'data/theory_error/filters_earliest_onset'; sigma_curves_default = '0.05'\n",
    "# change rescale distribution of theory error curves, uniform recommended \n",
    "rescale_curves = 'uniform' # or gaussian or None\n",
    "\n",
    "# sys error curves - relative scale of curve-amplitude \n",
    "sigma_curves='0.05'\n",
    "\n",
    "\n",
    "\n",
    "# -------------------- additional training settings --------------------\n",
    "\n",
    "\n",
    "# Type of model\n",
    "model_name='custom' # Custom or dummy - dummy has presets as given in models.py\n",
    "\n",
    "# fine-tune = only 'LCDM' and 'non-LCDM' \n",
    "fine_tune='False' # Model trained to distinguish between 'LCDM' and 'non-LCDM' classes or between all clases. i.e. binary or multi-classifier\n",
    "\n",
    "#Test mode?\n",
    "test_mode='False' # Network trained on 1 batch of minimal size or not?\n",
    "seed='1312' # Initial seed for test mode batch\n",
    "# Saving or restoring training\n",
    "restore='False' # Restore training from a checkpoint?\n",
    "save_ckpt='True' # Save checkpoints?\n",
    "\n",
    "\n",
    "val_size='0.15' # Validation set % of data set\n",
    "\n",
    "add_FT_dense='False' #if True, adds an additional dense layer before the final 2D one\n",
    "\n",
    "patience='50' # terminate training after 'patience' epochs if no decrease in loss function\n",
    "lr='0.01' # learning rate\n",
    "decay='0.95' #decay rate: If None : Adam(lr), \n",
    "\n",
    "\n",
    "\n",
    "# -------------------- BNN parameters -----------------\n",
    "\n",
    "# Example image details\n",
    "im_depth='500' # Number in z direction (e.g. 500 wave modes for P(k) examples)\n",
    "im_width='1' # Number in y direction (1 is a 2D image : P(k,mu))\n",
    "im_channels='4'  # Number in x direction (e.g. 4 redshifts for P(k,z))\n",
    "swap_axes='True' # Do we swap depth and width axes? True if we have 1D image in 4 channels\n",
    "sort_labels='True' # Sorts labels in ascending/alphabetical order\n",
    "\n",
    "z1='0' # which z-bins to include? Assumes each channel is a new z bin.\n",
    "z2='1' # which z-bins to include? Assumes each channel is a new z bin.\n",
    "z3='2' # which z-bins to include? Assumes each channel is a new z bin.\n",
    "z4='3' # which z-bins to include? Assumes each channel is a new z bin.\n",
    "\n",
    "# Number of layers and kernel sizes\n",
    "k1='10'\n",
    "k2='5'\n",
    "k3='2'\n",
    " # The dimensionality of the output space (i.e. the number of filters in the convolution)\n",
    "f1='8'\n",
    "f2='16'\n",
    "f3='32'\n",
    " # Stride of each layer's kernel\n",
    "s1='2'\n",
    "s2='2'\n",
    "s3='1'\n",
    "# Pooling layer sizes\n",
    "p1='2'\n",
    "p2='2'\n",
    "p3='0'\n",
    "# Strides in Pooling layer\n",
    "sp1='2'\n",
    "sp2='1'\n",
    "sp3='0'\n",
    "\n",
    "n_dense='1' # Number of dense layers\n",
    "\n",
    "# labels of different cosmologies\n",
    "#c0_label = 'lcdm'\n",
    "#c1_label = 'fR dgp wcdm'\n",
    "\n",
    "log_path = mdir+fname+'_log'\n",
    "if fine_tune:\n",
    "    log_path_original= log_path\n",
    "    log_path += '_FT'\n",
    "    log_path_original += '.txt'\n",
    "else:\n",
    "    log_path_original=''\n",
    "\n",
    "log_path += '.txt'\n",
    "\n"
   ]
  },
  {
   "cell_type": "markdown",
   "metadata": {
    "id": "0YN5PCcWXWgr"
   },
   "source": [
    "### run the training\n",
    "this may take a while to run, also expect some (harmless) error messages in the output"
   ]
  },
  {
   "cell_type": "code",
   "execution_count": 10,
   "metadata": {
    "colab": {
     "base_uri": "https://localhost:8080/"
    },
    "executionInfo": {
     "elapsed": 459747,
     "status": "ok",
     "timestamp": 1692149546043,
     "user": {
      "displayName": "Linus Thel",
      "userId": "02046882282261602929"
     },
     "user_tz": -120
    },
    "id": "pdSzp6AFFQL-",
    "outputId": "d45cea5d-3b0e-40d9-c07a-3112b04cde7e"
   },
   "outputs": [
    {
     "name": "stdout",
     "output_type": "stream",
     "text": [
      "err: 2023-08-16 01:24:49.370102: W tensorflow/compiler/tf2tensorrt/utils/py_utils.cc:38] TF-TRT Warning: Could not find TensorRT\n",
      "out: Creating directory models/model_noBayes_train_100\n",
      "err: 2023-08-16 01:24:59.772995: W tensorflow/core/common_runtime/gpu/gpu_bfc_allocator.cc:47] Overriding orig_value setting because the TF_FORCE_GPU_ALLOW_GROWTH environment variable is set. Original config value was 0.\n",
      "out: Logger creating log file: models/model_noBayes_train_100/model_noBayes_train_100_log.txt\n",
      "out: \n",
      "out: -------- Parameters:\n",
      "out: bayesian False\n",
      "out: test_mode False\n",
      "out: n_test_idx 2\n",
      "out: seed 1312\n",
      "out: fine_tune False\n",
      "out: one_vs_all False\n",
      "out: c_0 ['lcdm']\n",
      "out: c_1 ['dgp', 'fR', 'rand', 'wcdm']\n",
      "out: dataset_balanced False\n",
      "out: include_last False\n",
      "out: log_path models/model_noBayes_train_100_log.txt\n",
      "out: restore False\n",
      "out: fname model_noBayes_train_100\n",
      "out: model_name custom\n",
      "out: my_path None\n",
      "out: DIR data/training_sets_5_100\n",
      "out: TEST_DIR data/test_data/\n",
      "out: models_dir models/\n",
      "out: save_ckpt True\n",
      "out: out_path_overwrite False\n",
      "out: curves_folder curve_files_sys/curve_files_train1k_sysFactor0o04_start0o03_dirChange0\n",
      "out: im_depth 500\n",
      "out: im_width 1\n",
      "out: im_channels 4\n",
      "out: swap_axes True\n",
      "out: sort_labels True\n",
      "out: norm_data_name /planck_hmcode2020.txt\n",
      "out: normalization stdcosmo\n",
      "out: sample_pace 4\n",
      "out: k_max 2.5\n",
      "out: i_max None\n",
      "out: add_noise True\n",
      "out: n_noisy_samples 10\n",
      "out: add_shot False\n",
      "out: add_sys False\n",
      "out: add_cosvar True\n",
      "out: sigma_sys 5.0\n",
      "out: sys_scaled None\n",
      "out: sys_factor None\n",
      "out: sys_max None\n",
      "out: z_bins [0, 1, 2, 3]\n",
      "out: n_dense 1\n",
      "out: filters [8, 16, 32]\n",
      "out: kernel_sizes [10, 5, 2]\n",
      "out: strides [2, 2, 1]\n",
      "out: pool_sizes [2, 2, 0]\n",
      "out: strides_pooling [2, 1, 0]\n",
      "out: add_FT_dense False\n",
      "out: trainable False\n",
      "out: unfreeze False\n",
      "out: lr 0.01\n",
      "out: drop 0.5\n",
      "out: n_epochs 70\n",
      "out: val_size 0.15\n",
      "out: test_size 0.0\n",
      "out: batch_size 500\n",
      "out: patience 100\n",
      "out: GPU True\n",
      "out: decay 0.95\n",
      "out: BatchNorm True\n",
      "out: \n",
      "out: ------------ CREATING DATA GENERATORS ------------\n",
      "out: data_dir is  data/training_sets_5_100\n",
      "out: labels : ['dgp', 'fr', 'lcdm', 'n-wcdm', 'rand']\n",
      "out: Labels encoding:\n",
      "out: {'dgp': 0, 'fr': 1, 'lcdm': 2, 'n-wcdm': 3, 'rand': 4}\n",
      "out: n_labels : 5\n",
      "out: dgp - 100 training examples\n",
      "out: fr - 100 training examples\n",
      "out: lcdm - 100 training examples\n",
      "out: n-wcdm - 100 training examples\n",
      "out: rand - 100 training examples\n",
      "out: \n",
      "out: N. of data files: 100\n",
      "out: get_all_indexes labels dict: {'dgp': 0, 'fr': 1, 'lcdm': 2, 'n-wcdm': 3, 'rand': 4}\n",
      "out: create_generators n_labels: 5\n",
      "out: create_generators n_labels_eff: 5\n",
      "out: create_generators len_c1: 1\n",
      "out: Check for no duplicates in test: (0=ok):\n",
      "out: 0.0\n",
      "out: Check for no duplicates in val: (0=ok):\n",
      "out: 0\n",
      "out: N of files in training set: 85\n",
      "out: N of files in validation set: 15\n",
      "out: N of files in test set: 0\n",
      "out: Check - total: 100\n",
      "out: --create_generators, train indexes\n",
      "out: batch_size: 500\n",
      "out: - Cut sample\n",
      "out: bs: 500\n",
      "out: N_labels: 5\n",
      "out: N_noise: 10\n",
      "out: len_c1: 1\n",
      "out: - Cut sample\n",
      "out: bs: 500\n",
      "out: N_labels: 5\n",
      "out: N_noise: 10\n",
      "out: len_c1: 1\n",
      "out: - Cut sample\n",
      "out: bs: 500\n",
      "out: N_labels: 5\n",
      "out: N_noise: 10\n",
      "out: len_c1: 1\n",
      "out: - Cut sample\n",
      "out: bs: 500\n",
      "out: N_labels: 5\n",
      "out: N_noise: 10\n",
      "out: len_c1: 1\n",
      "out: - Cut sample\n",
      "out: bs: 500\n",
      "out: N_labels: 5\n",
      "out: N_noise: 10\n",
      "out: len_c1: 1\n",
      "out: - Cut sample\n",
      "out: bs: 500\n",
      "out: N_labels: 5\n",
      "out: N_noise: 10\n",
      "out: len_c1: 1\n",
      "out: Train index length: 80\n",
      "out: --create_generators, validation indexes\n",
      "out: - Cut sample\n",
      "out: bs: 500\n",
      "out: N_labels: 5\n",
      "out: N_noise: 10\n",
      "out: len_c1: 1\n",
      "out: - Cut sample\n",
      "out: bs: 500\n",
      "out: N_labels: 5\n",
      "out: N_noise: 10\n",
      "out: len_c1: 1\n",
      "out: - Cut sample\n",
      "out: bs: 500\n",
      "out: N_labels: 5\n",
      "out: N_noise: 10\n",
      "out: len_c1: 1\n",
      "out: - Cut sample\n",
      "out: bs: 500\n",
      "out: N_labels: 5\n",
      "out: N_noise: 10\n",
      "out: len_c1: 1\n",
      "out: - Cut sample\n",
      "out: bs: 500\n",
      "out: N_labels: 5\n",
      "out: N_noise: 10\n",
      "out: len_c1: 1\n",
      "out: - Cut sample\n",
      "out: bs: 500\n",
      "out: N_labels: 5\n",
      "out: N_noise: 10\n",
      "out: len_c1: 1\n",
      "out: Val index length: 10\n",
      "out: len(train_index_1), batch_size, n_labels_eff, n_noisy_samples = 80, 500, 5, 10\n",
      "out: \n",
      "out: --DataGenerator Train\n",
      "out: Data Generator Initialization\n",
      "out: Using z bins [0, 1, 2, 3]\n",
      "out: Normalisation file is /planck_hmcode2020.txt\n",
      "out: Specified k_max is 2.5\n",
      "out: Corresponding i_max is 100\n",
      "out: Closest k to k_max is 2.539859\n",
      "out: New data dim: (100, 1)\n",
      "out: Final i_max used is 100\n",
      "out: one_vs_all: False\n",
      "out: dataset_balanced: False\n",
      "out: base_case_dataset: True\n",
      "out: N. classes: 5\n",
      "out: N. n_classes in output: 5\n",
      "out: list_IDs length: 80\n",
      "out: n_indexes (n of file IDs read for each batch): 10\n",
      "out: batch size: 500\n",
      "out: n_batches : 8\n",
      "out: For each batch we read 10 file IDs\n",
      "out: For each file ID we have 5 labels\n",
      "out: For each ID, label we have 10 realizations of noise\n",
      "out: In total, for each batch we have 500 training examples\n",
      "out: Input batch size: 500\n",
      "out: N of batches to cover all file IDs: 8\n",
      "out: \n",
      "out: --DataGenerator Validation\n",
      "out: Data Generator Initialization\n",
      "out: Using z bins [0, 1, 2, 3]\n",
      "out: Normalisation file is /planck_hmcode2020.txt\n",
      "out: Specified k_max is 2.5\n",
      "out: Corresponding i_max is 100\n",
      "out: Closest k to k_max is 2.539859\n",
      "out: New data dim: (100, 1)\n",
      "out: Final i_max used is 100\n",
      "out: one_vs_all: False\n",
      "out: dataset_balanced: False\n",
      "out: base_case_dataset: True\n",
      "out: N. classes: 5\n",
      "out: N. n_classes in output: 5\n",
      "out: list_IDs length: 10\n",
      "out: n_indexes (n of file IDs read for each batch): 10\n",
      "out: batch size: 500\n",
      "out: n_batches : 1\n",
      "out: For each batch we read 10 file IDs\n",
      "out: For each file ID we have 5 labels\n",
      "out: For each ID, label we have 10 realizations of noise\n",
      "out: In total, for each batch we have 500 training examples\n",
      "out: Input batch size: 500\n",
      "out: N of batches to cover all file IDs: 1\n",
      "out: ------------ DONE ------------\n",
      "out: \n",
      "out: ------------ BUILDING MODEL ------------\n",
      "out: Input shape (100, 4)\n",
      "out: using 1D layers and 4 channels\n",
      "out: Expected output dimension of layer conv1d: 46.0\n",
      "out: Expected output dimension of layer max_pooling1d: 23.0\n",
      "out: Expected output dimension of layer conv1d_1: 10.0\n",
      "out: Expected output dimension of layer max_pooling1d_1: 9.0\n",
      "out: Expected output dimension of layer conv1d_2: 8.0\n",
      "out: Model: \"model\"\n",
      "out: _________________________________________________________________\n",
      "out: Layer (type)                Output Shape              Param #\n",
      "out: =================================================================\n",
      "out: input_1 (InputLayer)        [(None, 100, 4)]          0\n",
      "out: \n",
      "out: conv1d (Conv1D)             (None, 46, 8)             328\n",
      "out: \n",
      "out: max_pooling1d (MaxPooling1D  (None, 23, 8)            0\n",
      "out: )\n",
      "out: \n",
      "out: batch_normalization (BatchN  (None, 23, 8)            32\n",
      "out: ormalization)\n",
      "out: \n",
      "out: conv1d_1 (Conv1D)           (None, 10, 16)            656\n",
      "out: \n",
      "out: max_pooling1d_1 (MaxPooling  (None, 9, 16)            0\n",
      "out: 1D)\n",
      "out: \n",
      "out: batch_normalization_1 (Batc  (None, 9, 16)            64\n",
      "out: hNormalization)\n",
      "out: \n",
      "out: conv1d_2 (Conv1D)           (None, 8, 32)             1056\n",
      "out: \n",
      "out: batch_normalization_2 (Batc  (None, 8, 32)            128\n",
      "out: hNormalization)\n",
      "out: \n",
      "out: global_average_pooling1d (G  (None, 32)               0\n",
      "out: lobalAveragePooling1D)\n",
      "out: \n",
      "out: dense (Dense)               (None, 32)                1056\n",
      "out: \n",
      "out: batch_normalization_3 (Batc  (None, 32)               128\n",
      "out: hNormalization)\n",
      "out: \n",
      "out: dropout (Dropout)           (None, 32)                0\n",
      "out: \n",
      "out: dense_1 (Dense)             (None, 5)                 165\n",
      "out: \n",
      "out: =================================================================\n",
      "out: Total params: 3,613\n",
      "out: Trainable params: 3,437\n",
      "out: Non-trainable params: 176\n",
      "out: _________________________________________________________________\n",
      "out: None\n",
      "out: Found GPU at: /device:GPU:0\n",
      "out: ------------ TRAINING ------------\n",
      "out: \n",
      "out: Features shape: (500, 100, 4)\n",
      "out: Labels shape: (500, 5)\n",
      "out: Initializing checkpoint from scratch.\n",
      "out: Epoch 0\n",
      "out: Validation loss decreased. Saved checkpoint for step 1: models/model_noBayes_train_100/tf_ckpts/ckpt-1\n",
      "out: Time:  261.25s, ---- Loss: 1.3265, Acc.: 0.3320, Val. Loss: 1.5492, Val. Acc.: 0.2600\n",
      "out: \n",
      "out: Epoch 1\n",
      "out: Validation loss decreased. Saved checkpoint for step 2: models/model_noBayes_train_100/tf_ckpts/ckpt-2\n",
      "out: Time:  2.25s, ---- Loss: 1.2050, Acc.: 0.4938, Val. Loss: 1.5168, Val. Acc.: 0.2000\n",
      "out: \n",
      "out: Epoch 2\n",
      "out: Validation loss decreased. Saved checkpoint for step 3: models/model_noBayes_train_100/tf_ckpts/ckpt-3\n",
      "out: Time:  2.10s, ---- Loss: 1.0278, Acc.: 0.5380, Val. Loss: 1.4937, Val. Acc.: 0.2000\n",
      "out: \n",
      "out: Epoch 3\n",
      "out: Loss did not decrease. Count = 1\n",
      "out: Time:  1.72s, ---- Loss: 0.9588, Acc.: 0.5847, Val. Loss: 1.5597, Val. Acc.: 0.2000\n",
      "out: \n",
      "out: Epoch 4\n",
      "out: Loss did not decrease. Count = 2\n",
      "out: Time:  1.76s, ---- Loss: 0.8436, Acc.: 0.6240, Val. Loss: 1.5385, Val. Acc.: 0.2000\n",
      "out: \n",
      "out: Epoch 5\n",
      "out: Validation loss decreased. Saved checkpoint for step 6: models/model_noBayes_train_100/tf_ckpts/ckpt-4\n",
      "out: Time:  1.86s, ---- Loss: 0.8076, Acc.: 0.6505, Val. Loss: 1.4494, Val. Acc.: 0.2400\n",
      "out: \n",
      "out: Epoch 6\n",
      "out: Validation loss decreased. Saved checkpoint for step 7: models/model_noBayes_train_100/tf_ckpts/ckpt-5\n",
      "out: Time:  1.86s, ---- Loss: 0.7670, Acc.: 0.6680, Val. Loss: 1.3903, Val. Acc.: 0.2600\n",
      "out: \n",
      "out: Epoch 7\n",
      "out: Loss did not decrease. Count = 1\n",
      "out: Time:  1.77s, ---- Loss: 0.7578, Acc.: 0.6902, Val. Loss: 1.3905, Val. Acc.: 0.2600\n",
      "out: \n",
      "out: Epoch 8\n",
      "out: Loss did not decrease. Count = 2\n",
      "out: Time:  2.00s, ---- Loss: 0.7281, Acc.: 0.6883, Val. Loss: 1.3941, Val. Acc.: 0.2720\n",
      "out: \n",
      "out: Epoch 9\n",
      "out: Validation loss decreased. Saved checkpoint for step 10: models/model_noBayes_train_100/tf_ckpts/ckpt-6\n",
      "out: Time:  2.24s, ---- Loss: 0.6512, Acc.: 0.7048, Val. Loss: 1.3284, Val. Acc.: 0.3140\n",
      "out: \n",
      "out: Epoch 10\n",
      "out: Loss did not decrease. Count = 1\n",
      "out: Time:  2.04s, ---- Loss: 0.6620, Acc.: 0.7115, Val. Loss: 1.3370, Val. Acc.: 0.2960\n",
      "out: \n",
      "out: Epoch 11\n",
      "out: Loss did not decrease. Count = 2\n",
      "out: Time:  2.01s, ---- Loss: 0.6016, Acc.: 0.7300, Val. Loss: 1.3535, Val. Acc.: 0.2960\n",
      "out: \n",
      "out: Epoch 12\n",
      "out: Loss did not decrease. Count = 3\n",
      "out: Time:  1.71s, ---- Loss: 0.5871, Acc.: 0.7442, Val. Loss: 1.3349, Val. Acc.: 0.3100\n",
      "out: \n",
      "out: Epoch 13\n",
      "out: Validation loss decreased. Saved checkpoint for step 14: models/model_noBayes_train_100/tf_ckpts/ckpt-7\n",
      "out: Time:  1.84s, ---- Loss: 0.5679, Acc.: 0.7548, Val. Loss: 1.2605, Val. Acc.: 0.3720\n",
      "out: \n",
      "out: Epoch 14\n",
      "out: Validation loss decreased. Saved checkpoint for step 15: models/model_noBayes_train_100/tf_ckpts/ckpt-8\n",
      "out: Time:  1.82s, ---- Loss: 0.5170, Acc.: 0.7533, Val. Loss: 1.2350, Val. Acc.: 0.3760\n",
      "out: \n",
      "out: Epoch 15\n",
      "out: Validation loss decreased. Saved checkpoint for step 16: models/model_noBayes_train_100/tf_ckpts/ckpt-9\n",
      "out: Time:  1.84s, ---- Loss: 0.5018, Acc.: 0.7843, Val. Loss: 1.2061, Val. Acc.: 0.4280\n",
      "out: \n",
      "out: Epoch 16\n",
      "out: Validation loss decreased. Saved checkpoint for step 17: models/model_noBayes_train_100/tf_ckpts/ckpt-10\n",
      "out: Time:  3.13s, ---- Loss: 0.5001, Acc.: 0.7670, Val. Loss: 1.1191, Val. Acc.: 0.4780\n",
      "out: \n",
      "out: Epoch 17\n",
      "out: Validation loss decreased. Saved checkpoint for step 18: models/model_noBayes_train_100/tf_ckpts/ckpt-11\n",
      "out: Time:  2.29s, ---- Loss: 0.5163, Acc.: 0.7807, Val. Loss: 1.1159, Val. Acc.: 0.4700\n",
      "out: \n",
      "out: Epoch 18\n",
      "out: Validation loss decreased. Saved checkpoint for step 19: models/model_noBayes_train_100/tf_ckpts/ckpt-12\n",
      "out: Time:  1.82s, ---- Loss: 0.4455, Acc.: 0.7910, Val. Loss: 1.0706, Val. Acc.: 0.4840\n",
      "out: \n",
      "out: Epoch 19\n",
      "out: Validation loss decreased. Saved checkpoint for step 20: models/model_noBayes_train_100/tf_ckpts/ckpt-13\n",
      "out: Time:  1.88s, ---- Loss: 0.5529, Acc.: 0.7755, Val. Loss: 1.0588, Val. Acc.: 0.5920\n",
      "out: \n",
      "out: Epoch 20\n",
      "out: Validation loss decreased. Saved checkpoint for step 21: models/model_noBayes_train_100/tf_ckpts/ckpt-14\n",
      "out: Time:  1.87s, ---- Loss: 0.4733, Acc.: 0.7887, Val. Loss: 1.0368, Val. Acc.: 0.5360\n",
      "out: \n",
      "out: Epoch 21\n",
      "out: Validation loss decreased. Saved checkpoint for step 22: models/model_noBayes_train_100/tf_ckpts/ckpt-15\n",
      "out: Time:  1.83s, ---- Loss: 0.4392, Acc.: 0.7965, Val. Loss: 1.0182, Val. Acc.: 0.5380\n",
      "out: \n",
      "out: Epoch 22\n",
      "out: Validation loss decreased. Saved checkpoint for step 23: models/model_noBayes_train_100/tf_ckpts/ckpt-16\n",
      "out: Time:  2.29s, ---- Loss: 0.4295, Acc.: 0.8060, Val. Loss: 0.9741, Val. Acc.: 0.5640\n",
      "out: \n",
      "out: Epoch 23\n",
      "out: Validation loss decreased. Saved checkpoint for step 24: models/model_noBayes_train_100/tf_ckpts/ckpt-17\n",
      "out: Time:  2.67s, ---- Loss: 0.4092, Acc.: 0.8185, Val. Loss: 0.9449, Val. Acc.: 0.5380\n",
      "out: \n",
      "out: Epoch 24\n",
      "out: Validation loss decreased. Saved checkpoint for step 25: models/model_noBayes_train_100/tf_ckpts/ckpt-18\n",
      "out: Time:  2.82s, ---- Loss: 0.4499, Acc.: 0.8112, Val. Loss: 0.9412, Val. Acc.: 0.5620\n",
      "out: \n",
      "out: Epoch 25\n",
      "out: Validation loss decreased. Saved checkpoint for step 26: models/model_noBayes_train_100/tf_ckpts/ckpt-19\n",
      "out: Time:  2.50s, ---- Loss: 0.4122, Acc.: 0.8190, Val. Loss: 0.8748, Val. Acc.: 0.6560\n",
      "out: \n",
      "out: Epoch 26\n",
      "out: Validation loss decreased. Saved checkpoint for step 27: models/model_noBayes_train_100/tf_ckpts/ckpt-20\n",
      "out: Time:  2.27s, ---- Loss: 0.4376, Acc.: 0.8100, Val. Loss: 0.8537, Val. Acc.: 0.6500\n",
      "out: \n",
      "out: Epoch 27\n",
      "out: Loss did not decrease. Count = 1\n",
      "out: Time:  2.08s, ---- Loss: 0.3867, Acc.: 0.8087, Val. Loss: 0.8774, Val. Acc.: 0.5900\n",
      "out: \n",
      "out: Epoch 28\n",
      "out: Validation loss decreased. Saved checkpoint for step 29: models/model_noBayes_train_100/tf_ckpts/ckpt-21\n",
      "out: Time:  1.89s, ---- Loss: 0.3785, Acc.: 0.8298, Val. Loss: 0.8415, Val. Acc.: 0.6300\n",
      "out: \n",
      "out: Epoch 29\n",
      "out: Validation loss decreased. Saved checkpoint for step 30: models/model_noBayes_train_100/tf_ckpts/ckpt-22\n",
      "out: Time:  1.87s, ---- Loss: 0.3645, Acc.: 0.8360, Val. Loss: 0.7941, Val. Acc.: 0.6560\n",
      "out: \n",
      "out: Epoch 30\n",
      "out: Loss did not decrease. Count = 1\n",
      "out: Time:  1.74s, ---- Loss: 0.4106, Acc.: 0.8393, Val. Loss: 0.8015, Val. Acc.: 0.6520\n",
      "out: \n",
      "out: Epoch 31\n",
      "out: Validation loss decreased. Saved checkpoint for step 32: models/model_noBayes_train_100/tf_ckpts/ckpt-23\n",
      "out: Time:  2.14s, ---- Loss: 0.3495, Acc.: 0.8340, Val. Loss: 0.7412, Val. Acc.: 0.7400\n",
      "out: \n",
      "out: Epoch 32\n",
      "out: Validation loss decreased. Saved checkpoint for step 33: models/model_noBayes_train_100/tf_ckpts/ckpt-24\n",
      "out: Time:  2.14s, ---- Loss: 0.3728, Acc.: 0.8340, Val. Loss: 0.7376, Val. Acc.: 0.7140\n",
      "out: \n",
      "out: Epoch 33\n",
      "out: Validation loss decreased. Saved checkpoint for step 34: models/model_noBayes_train_100/tf_ckpts/ckpt-25\n",
      "out: Time:  2.18s, ---- Loss: 0.3442, Acc.: 0.8447, Val. Loss: 0.6819, Val. Acc.: 0.7360\n",
      "out: \n",
      "out: Epoch 34\n",
      "out: Loss did not decrease. Count = 1\n",
      "out: Time:  1.72s, ---- Loss: 0.3910, Acc.: 0.8447, Val. Loss: 0.7286, Val. Acc.: 0.6480\n",
      "out: \n",
      "out: Epoch 35\n",
      "out: Loss did not decrease. Count = 2\n",
      "out: Time:  1.78s, ---- Loss: 0.3325, Acc.: 0.8558, Val. Loss: 0.6888, Val. Acc.: 0.6680\n",
      "out: \n",
      "out: Epoch 36\n",
      "out: Loss did not decrease. Count = 3\n",
      "out: Time:  2.84s, ---- Loss: 0.3197, Acc.: 0.8615, Val. Loss: 0.6847, Val. Acc.: 0.7200\n",
      "out: \n",
      "out: Epoch 37\n",
      "out: Loss did not decrease. Count = 4\n",
      "out: Time:  2.41s, ---- Loss: 0.2921, Acc.: 0.8605, Val. Loss: 0.6885, Val. Acc.: 0.6460\n",
      "out: \n",
      "out: Epoch 38\n",
      "out: Validation loss decreased. Saved checkpoint for step 39: models/model_noBayes_train_100/tf_ckpts/ckpt-26\n",
      "out: Time:  3.48s, ---- Loss: 0.2879, Acc.: 0.8640, Val. Loss: 0.6804, Val. Acc.: 0.6640\n",
      "out: \n",
      "out: Epoch 39\n",
      "out: Validation loss decreased. Saved checkpoint for step 40: models/model_noBayes_train_100/tf_ckpts/ckpt-27\n",
      "out: Time:  3.70s, ---- Loss: 0.2813, Acc.: 0.8648, Val. Loss: 0.6511, Val. Acc.: 0.6960\n",
      "out: \n",
      "out: Epoch 40\n",
      "out: Loss did not decrease. Count = 1\n",
      "out: Time:  2.06s, ---- Loss: 0.3143, Acc.: 0.8608, Val. Loss: 0.7001, Val. Acc.: 0.6720\n",
      "out: \n",
      "out: Epoch 41\n",
      "out: Loss did not decrease. Count = 2\n",
      "out: Time:  2.74s, ---- Loss: 0.3073, Acc.: 0.8727, Val. Loss: 0.7064, Val. Acc.: 0.6540\n",
      "out: \n",
      "out: Epoch 42\n",
      "out: Loss did not decrease. Count = 3\n",
      "out: Time:  2.31s, ---- Loss: 0.2935, Acc.: 0.8727, Val. Loss: 0.6811, Val. Acc.: 0.6540\n",
      "out: \n",
      "out: Epoch 43\n",
      "out: Loss did not decrease. Count = 4\n",
      "out: Time:  2.79s, ---- Loss: 0.2977, Acc.: 0.8665, Val. Loss: 0.6572, Val. Acc.: 0.6980\n",
      "out: \n",
      "out: Epoch 44\n",
      "out: Loss did not decrease. Count = 5\n",
      "out: Time:  3.71s, ---- Loss: 0.2900, Acc.: 0.8708, Val. Loss: 0.6587, Val. Acc.: 0.6780\n",
      "out: \n",
      "out: Epoch 45\n",
      "out: Validation loss decreased. Saved checkpoint for step 46: models/model_noBayes_train_100/tf_ckpts/ckpt-28\n",
      "out: Time:  2.56s, ---- Loss: 0.2905, Acc.: 0.8680, Val. Loss: 0.6249, Val. Acc.: 0.7060\n",
      "out: \n",
      "out: Epoch 46\n",
      "out: Loss did not decrease. Count = 1\n",
      "out: Time:  1.70s, ---- Loss: 0.2679, Acc.: 0.8775, Val. Loss: 0.6465, Val. Acc.: 0.7000\n",
      "out: \n",
      "out: Epoch 47\n",
      "out: Validation loss decreased. Saved checkpoint for step 48: models/model_noBayes_train_100/tf_ckpts/ckpt-29\n",
      "out: Time:  1.84s, ---- Loss: 0.2464, Acc.: 0.8825, Val. Loss: 0.6053, Val. Acc.: 0.7200\n",
      "out: \n",
      "out: Epoch 48\n",
      "out: Loss did not decrease. Count = 1\n",
      "out: Time:  2.55s, ---- Loss: 0.2551, Acc.: 0.8835, Val. Loss: 0.6331, Val. Acc.: 0.7160\n",
      "out: \n",
      "out: Epoch 49\n",
      "out: Loss did not decrease. Count = 2\n",
      "out: Time:  2.81s, ---- Loss: 0.2416, Acc.: 0.8982, Val. Loss: 0.6129, Val. Acc.: 0.7080\n",
      "out: \n",
      "out: Epoch 50\n"
     ]
    }
   ],
   "source": [
    "# -------------- training loads parameters entered above  --------------\n",
    "proc = subprocess.Popen([\"python3\", \"train.py\", \"--test_mode\" , test_mode, \"--seed\", seed, \\\n",
    "                     \"--bayesian\", bayesian, \"--model_name\", model_name, \\\n",
    "                     \"--fine_tune\", fine_tune, \"--log_path\", log_path_original,\\\n",
    "                     \"--restore\", restore, \\\n",
    "                     \"--models_dir\", mdir, \\\n",
    "                     \"--fname\", fname, \\\n",
    "                     \"--DIR\", DIR, \\\n",
    "                     \"--norm_data_name\", norm_data_name, \\\n",
    "                     \"--curves_folder\", curves_folder,\\\n",
    "                     \"--c_0\", 'lcdm', \\\n",
    "                     \"--c_1\", 'fR', 'dgp', 'wcdm', 'rand',\\\n",
    "                     \"--save_ckpt\", save_ckpt, \\\n",
    "                     \"--im_depth\", im_depth, \"--im_width\", im_width, \"--im_channels\", im_channels, \\\n",
    "                     \"--swap_axes\", swap_axes, \\\n",
    "                     \"--sort_labels\", sort_labels, \\\n",
    "                     \"--add_noise\", add_noise, \"--add_shot\", add_shot, \"--add_sys\", add_sys,\"--add_cosvar\", add_cosvar, \\\n",
    "                     \"--sigma_curves\", sigma_curves, \\\n",
    "                     \"--sigma_curves_default\", sigma_curves_default, \\\n",
    "                     \"--save_processed_spectra\", save_processed_spectra, \\\n",
    "                     \"--sample_pace\", sample_pace,\\\n",
    "                     \"--n_noisy_samples\", n_noisy_samples, \\\n",
    "                     \"--rescale_curves\", rescale_curves, \\\n",
    "                     \"--val_size\", val_size, \\\n",
    "                     \"--z_bins\", z1,z2,z3,z4, \\\n",
    "                     \"--filters\", f1,f2,f3, \"--kernel_sizes\", k1,k2,k3, \"--strides\", s1,s2,s3, \"--pool_sizes\", p1,p2,p3, \"--strides_pooling\", sp1,sp2,sp3, \\\n",
    "                     \"--k_max\", k_max,\\\n",
    "                     \"--n_dense\", n_dense,\\\n",
    "                     \"--add_FT_dense\", add_FT_dense, \\\n",
    "                     \"--n_epochs\", n_epochs, \"--patience\", patience, \"--batch_size\", batch_size, \"--lr\", lr, \\\n",
    "                     \"--decay\", decay, \\\n",
    "                     \"--GPU\", GPU],\\\n",
    "                     stdout=subprocess.PIPE, \\\n",
    "                     stderr=subprocess.PIPE)\n",
    "\n",
    "with open(log_path, \"w\") as log_file:\n",
    "     while proc.poll() is None:\n",
    "        line = proc.stderr.readline()\n",
    "        if line:\n",
    "            my_bytes=line.strip()\n",
    "            print (\"err: \" + my_bytes.decode('utf-8'))\n",
    "            log_file.write(line.decode('utf-8'))\n",
    "        line = proc.stdout.readline()\n",
    "        if line:\n",
    "            my_bytes=line.strip()\n",
    "            print (\"out: \" + my_bytes.decode('utf-8'))\n",
    "            log_file.write(line.decode('utf-8'))\n"
   ]
  },
  {
   "cell_type": "code",
   "execution_count": 11,
   "metadata": {
    "colab": {
     "base_uri": "https://localhost:8080/"
    },
    "executionInfo": {
     "elapsed": 502,
     "status": "ok",
     "timestamp": 1692149605238,
     "user": {
      "displayName": "Linus Thel",
      "userId": "02046882282261602929"
     },
     "user_tz": -120
    },
    "id": "nQHIQyYioZbw",
    "outputId": "e5543882-c85f-4bbd-81bf-79b33ceed082"
   },
   "outputs": [
    {
     "name": "stdout",
     "output_type": "stream",
     "text": [
      "\u001b[0m\u001b[01;34mdata\u001b[0m/              \u001b[01;34mmodels\u001b[0m/     \u001b[01;34m__pycache__\u001b[0m/  train-parameters.py\n",
      "data_generator.py  models.py   README.md     train.py\n",
      "importer.py        \u001b[01;34mnotebooks\u001b[0m/  test.py       utils.py\n"
     ]
    }
   ],
   "source": [
    "ls\n"
   ]
  },
  {
   "cell_type": "code",
   "execution_count": 12,
   "metadata": {
    "colab": {
     "base_uri": "https://localhost:8080/"
    },
    "executionInfo": {
     "elapsed": 12,
     "status": "ok",
     "timestamp": 1692149607114,
     "user": {
      "displayName": "Linus Thel",
      "userId": "02046882282261602929"
     },
     "user_tz": -120
    },
    "id": "W6v9Ql7T87Me",
    "outputId": "1a17b87d-c874-461c-b70f-7a829f245fbb"
   },
   "outputs": [
    {
     "name": "stdout",
     "output_type": "stream",
     "text": [
      "\u001b[0m\u001b[01;34mmodel_noBayes_train_100\u001b[0m/\n",
      "model_noBayes_train_100_log_FT.txt\n",
      "\u001b[01;34mtest_10_samplePace4_kmax2o5_planck-hmcode2020_epoch70_noiseSamples10_wCV_noShot_noSys_GPU_colab_noBayes\u001b[0m\u001b[K/\n",
      "test_10_samplePace4_kmax2o5_planck-hmcode2020_epoch70_noiseSamples10_wCV_noShot_noSys_GPU_colab_noBayes_log_FT.txt\n",
      "\u001b[01;34mtest_10_samplePace4_kmax2o5_planck-hmcode2020_epoch70_noiseSamples10_wCV_noShot_noSys_GPU_colab_noSys\u001b[0m\u001b[K/\n",
      "test_10_samplePace4_kmax2o5_planck-hmcode2020_epoch70_noiseSamples10_wCV_noShot_noSys_GPU_colab_noSys_log_FT.txt\n",
      "\u001b[01;34mtrain_100_samplePace4_kmax2o5_planck-hmcode2020_epoch70_noiseSamples10_wCV_noShot_noSys_GPU_colab\u001b[0m\u001b[K/\n",
      "train_100_samplePace4_kmax2o5_planck-hmcode2020_epoch70_noiseSamples10_wCV_noShot_noSys_GPU_colab_log_FT.txt\n",
      "\u001b[01;34mtrain_100_samplePace4_kmax2o5_planck-hmcode2020_epoch70_noiseSamples10_wCV_noShot_noSys_GPU_colab_noSys\u001b[0m\u001b[K/\n",
      "train_100_samplePace4_kmax2o5_planck-hmcode2020_epoch70_noiseSamples10_wCV_noShot_noSys_GPU_colab_noSys_log_FT.txt\n",
      "\u001b[01;34mtrainTest_10_samplePace4_kmax2o5_planck-hmcode2020_epoch70_noiseSamples10_wCV_noShot_noSys_GPU_nosys-k25\u001b[0m\u001b[K/\n",
      "trainTest_10_samplePace4_kmax2o5_planck-hmcode2020_epoch70_noiseSamples10_wCV_noShot_noSys_GPU_nosys-k25_log_FT.txt\n",
      "\u001b[01;34mtrainTest_10_samplePace4_kmax2o5_planck-hmcode2020_epoch70_noiseSamples10_wCV_noShot_noSys_nosys-k25\u001b[0m\u001b[K/\n",
      "trainTest_10_samplePace4_kmax2o5_planck-hmcode2020_epoch70_noiseSamples10_wCV_noShot_noSys_nosys-k25_log_FT.txt\n"
     ]
    }
   ],
   "source": [
    "ls models/"
   ]
  },
  {
   "cell_type": "markdown",
   "metadata": {
    "id": "y3sLuZopQ8Dy"
   },
   "source": [
    "## Run the test of the model\n",
    "- insert the path+name of the log file of the model\n",
    "- change the test directory\n",
    "- change the custom name that will be used for the confusion matrix\n",
    "\n",
    "The pdf file with the confusion matrix is saved in the model folder."
   ]
  },
  {
   "cell_type": "code",
   "execution_count": 14,
   "metadata": {
    "colab": {
     "base_uri": "https://localhost:8080/"
    },
    "executionInfo": {
     "elapsed": 6373,
     "status": "ok",
     "timestamp": 1692149676443,
     "user": {
      "displayName": "Linus Thel",
      "userId": "02046882282261602929"
     },
     "user_tz": -120
    },
    "id": "c98CGa3KJlyf",
    "outputId": "e9855d5c-5874-49ca-f331-5c5d24eb93c0"
   },
   "outputs": [
    {
     "name": "stdout",
     "output_type": "stream",
     "text": [
      "2023-08-16 01:34:32.090473: W tensorflow/compiler/tf2tensorrt/utils/py_utils.cc:38] TF-TRT Warning: Could not find TensorRT\n",
      "Reading log from models/model_noBayes_train_100/model_noBayes_train_100_log.txt \n",
      "\n",
      " -------- Loaded parameters:\n",
      "bayesian False\n",
      "test_mode False\n",
      "n_test_idx 2\n",
      "seed 1312\n",
      "fine_tune False\n",
      "one_vs_all False\n",
      "c_0 ['lcdm']\n",
      "c_1 ['dgp', 'fR', 'rand', 'wcdm']\n",
      "dataset_balanced False\n",
      "include_last False\n",
      "log_path \n",
      "restore False\n",
      "fname model_noBayes_train_100\n",
      "model_name custom\n",
      "my_path None\n",
      "DIR data/training_sets_5_100\n",
      "TEST_DIR data/test_data/\n",
      "models_dir models/\n",
      "save_ckpt True\n",
      "out_path_overwrite False\n",
      "curves_folder curve_files_sys/curve_files_train1k_sysFactor0o04_start0o03_dirChange0\n",
      "im_depth 500\n",
      "im_width 1\n",
      "im_channels 4\n",
      "swap_axes True\n",
      "sort_labels True\n",
      "norm_data_name /planck_hmcode2020.txt\n",
      "normalization stdcosmo\n",
      "sample_pace 4\n",
      "k_max 2.5\n",
      "i_max None\n",
      "add_noise True\n",
      "n_noisy_samples 10\n",
      "add_shot False\n",
      "add_sys False\n",
      "add_cosvar True\n",
      "sigma_sys 5.0\n",
      "sys_scaled None\n",
      "sys_factor None\n",
      "sys_max None\n",
      "z_bins [0, 1, 2, 3]\n",
      "n_dense 1\n",
      "filters [8, 16, 32]\n",
      "kernel_sizes [10, 5, 2]\n",
      "strides [2, 2, 1]\n",
      "pool_sizes [2, 2, 0]\n",
      "strides_pooling [2, 1, 0]\n",
      "add_FT_dense False\n",
      "trainable False\n",
      "unfreeze False\n",
      "lr 0.01\n",
      "drop 0.5\n",
      "n_epochs 70\n",
      "val_size 0.15\n",
      "test_size 0.0\n",
      "batch_size 500\n",
      "patience 100\n",
      "GPU True\n",
      "decay 0.95\n",
      "BatchNorm True\n",
      "group_lab_dict {'dgp': 'non_lcdm', 'fR': 'non_lcdm', 'rand': 'non_lcdm', 'wcdm': 'non_lcdm', 'lcdm': 'lcdm'}\n",
      "FLAGS.one_vs_all : False\n",
      "Saving cm at test-colab\n",
      "Setting save_indexes to False\n",
      "Using data in the directory data/test_sets_5\n",
      "Reading model from the directory models/\n",
      "Reading curves from the directory curve_files_sys/curve_files_train1k_sysFactor0o04_start0o03_dirChange0\n",
      "-------------------- out_path with FLAGS_fname models/model_noBayes_train_100\n",
      "Logger creating log file: models/model_noBayes_train_100/cm_test-colab_log.txt\n",
      "Overwriting noise flags. Using n_noisy_samples=10, add_shot=False, add_sys=False,add_cosvar=True, sigma_sys=5.0\n",
      "\n",
      " -------- Parameters:\n",
      "bayesian False\n",
      "test_mode False\n",
      "n_test_idx 2\n",
      "seed 1312\n",
      "fine_tune False\n",
      "one_vs_all False\n",
      "c_0 ['lcdm']\n",
      "c_1 ['dgp', 'fR', 'rand', 'wcdm']\n",
      "dataset_balanced False\n",
      "include_last False\n",
      "log_path \n",
      "restore False\n",
      "fname model_noBayes_train_100\n",
      "model_name custom\n",
      "my_path None\n",
      "DIR data/training_sets_5_100\n",
      "TEST_DIR data/test_sets_5\n",
      "models_dir models/\n",
      "save_ckpt True\n",
      "out_path_overwrite False\n",
      "curves_folder curve_files_sys/curve_files_train1k_sysFactor0o04_start0o03_dirChange0\n",
      "im_depth 500\n",
      "im_width 1\n",
      "im_channels 4\n",
      "swap_axes True\n",
      "sort_labels True\n",
      "norm_data_name /planck_hmcode2020.txt\n",
      "normalization stdcosmo\n",
      "sample_pace 4\n",
      "k_max 2.5\n",
      "i_max None\n",
      "add_noise True\n",
      "n_noisy_samples 10\n",
      "add_shot False\n",
      "add_sys False\n",
      "add_cosvar True\n",
      "sigma_sys 5.0\n",
      "sys_scaled None\n",
      "sys_factor None\n",
      "sys_max None\n",
      "z_bins [0, 1, 2, 3]\n",
      "n_dense 1\n",
      "filters [8, 16, 32]\n",
      "kernel_sizes [10, 5, 2]\n",
      "strides [2, 2, 1]\n",
      "pool_sizes [2, 2, 0]\n",
      "strides_pooling [2, 1, 0]\n",
      "add_FT_dense False\n",
      "trainable False\n",
      "unfreeze False\n",
      "lr 0.01\n",
      "drop 0.5\n",
      "n_epochs 70\n",
      "val_size 0.15\n",
      "test_size 0.0\n",
      "batch_size 500\n",
      "patience 100\n",
      "GPU True\n",
      "decay 0.95\n",
      "BatchNorm True\n",
      "group_lab_dict {'dgp': 'non_lcdm', 'fR': 'non_lcdm', 'rand': 'non_lcdm', 'wcdm': 'non_lcdm', 'lcdm': 'lcdm'}\n",
      "save_indexes False\n",
      "------------ CREATING DATA GENERATORS ------------\n",
      "\n",
      "Traceback (most recent call last):\n",
      "  File \"/content/drive/MyDrive/BaCoN-CSZ-test/test.py\", line 442, in <module>\n",
      "    main()\n",
      "  File \"/content/drive/MyDrive/BaCoN-CSZ-test/test.py\", line 406, in main\n",
      "    test_generator = create_test_generator(FLAGS)\n",
      "  File \"/content/drive/MyDrive/BaCoN-CSZ-test/data_generator.py\", line 672, in create_test_generator\n",
      "    all_index, n_samples, val_size, n_labels, labels, labels_dict, all_labels = get_all_indexes(FLAGS, Test=True)\n",
      "  File \"/content/drive/MyDrive/BaCoN-CSZ-test/utils.py\", line 384, in get_all_indexes\n",
      "    all_labels =  ([name for name in os.listdir(data_dir) if not os.path.isfile(os.path.join(data_dir, name))])\n",
      "FileNotFoundError: [Errno 2] No such file or directory: 'data/test_sets_5'\n"
     ]
    }
   ],
   "source": [
    "!python test.py --log_path='models/model_withBayes_train_100/model_withBayes_train_100_log.txt' \\\n",
    "  --TEST_DIR='data/test_5_classes' --cm_name_custom='test-colab'"
   ]
  },
  {
   "cell_type": "markdown",
   "metadata": {
    "id": "F5ux1dgMxJXn"
   },
   "source": [
    "## Load modules for classification of a single spectrum"
   ]
  },
  {
   "cell_type": "markdown",
   "metadata": {
    "id": "FYGq6yP8Nvoq"
   },
   "source": [
    "### Functions to load trained models and data\n",
    "just execute the following cells"
   ]
  },
  {
   "cell_type": "code",
   "execution_count": 15,
   "metadata": {
    "executionInfo": {
     "elapsed": 520,
     "status": "ok",
     "timestamp": 1692149722075,
     "user": {
      "displayName": "Linus Thel",
      "userId": "02046882282261602929"
     },
     "user_tz": -120
    },
    "id": "gazkA01-CMCj"
   },
   "outputs": [],
   "source": [
    "def read_pre_trained_flags(args_dict):\n",
    "  '''\n",
    "  Read model options from logfile and return them in the form of FLAGS (the corresponding class is in utils)\n",
    "  '''\n",
    "  args = DummyFlags(args_dict)\n",
    "  FLAGS = get_flags(args.log_path)\n",
    "  if args.models_dir is not None:\n",
    "        print('Reading model from the directory %s' %args.models_dir)\n",
    "        FLAGS.models_dir = args.models_dir\n",
    "  return FLAGS\n",
    "\n",
    "\n",
    "def get_pre_trained_model(fname, n_classes, input_shape):\n",
    "  '''\n",
    "  returns pre-trained model.\n",
    "  Input:  - fname: string, folder where the trained model is stored\n",
    "          - n_classes: integer, number of output classes of the model\n",
    "          - input_shape:  tuple, input dimensions of the model.\n",
    "                          For pre-trained model in the paper use (100, 4)\n",
    "\n",
    "  '''\n",
    "\n",
    "  log_path = os.path.join('models', fname, fname+'_log.txt' )\n",
    "  models_dir = os.path.join('models', fname)\n",
    "\n",
    "  args_dict= {'log_path':log_path, 'models_dir': models_dir, }\n",
    "  FLAGS=read_pre_trained_flags(args_dict)\n",
    "\n",
    "  print('Input shape %s' %str(input_shape))\n",
    "\n",
    "\n",
    "  model_loaded =  load_model_for_test(FLAGS, input_shape, n_classes=n_classes,\n",
    "                                        generator=None, new_fname='')\n",
    "\n",
    "\n",
    "  return model_loaded\n",
    "\n",
    "\n",
    "\n",
    "def load_X(fname, sample_pace, i_max, norm_data,\n",
    "           add_noise=True, normalise=True, use_sample_pace=False, include_k=True):\n",
    "  '''\n",
    "  Generates one power spectrum X ready for classification.\n",
    "  Options:  fname: path to data\n",
    "            sample_pace: read one point every sample_pace. Useful to reduce data dimension\n",
    "            i_max: Index corresponding to the max k used\n",
    "            norm_data: normalization spectrum\n",
    "\n",
    "            add_noise: whether to add noise or not\n",
    "            normalise: normalise by Planck or not\n",
    "            use_sample_pace\n",
    "            include_k: return k, X or only X\n",
    "\n",
    "\n",
    "\n",
    "  '''\n",
    "\n",
    "  all = np.loadtxt(fname)\n",
    "  print('loaded data shape: %s' %str(all.shape))\n",
    "  if include_k:\n",
    "    k, X = all[:, 0], all[:, 1:]\n",
    "    print('k, X  shape: %s, %s' %(str(k.shape), str(X.shape)))\n",
    "  else:\n",
    "    X = all\n",
    "    k=np.arange(X.shape[0])\n",
    "    print('X  shape : %s' %( str(X.shape)))\n",
    "  if use_sample_pace:\n",
    "    k, X = k[::sample_pace], X[::sample_pace]\n",
    "  print('X  shape after sample pace:  %s' %( str(X.shape)))\n",
    "  k, X  = k[:i_max], X[:i_max]\n",
    "  print('X  shape after k max: %s' %( str(X.shape)))\n",
    "  if add_noise:\n",
    "    noise = np.random.normal(loc=0, scale=generate_noise(k,X, add_sys=True,add_shot=True,sigma_sys=5 ))\n",
    "    X = X+noise\n",
    "  if normalise:\n",
    "    planck = norm_data\n",
    "    print('planck data shape: %s' %str(planck.shape))\n",
    "    X = X/planck-1\n",
    "  if include_k:\n",
    "    return k, X\n",
    "  else:\n",
    "    return X"
   ]
  },
  {
   "cell_type": "markdown",
   "metadata": {
    "id": "Ho00eqUjDVPp"
   },
   "source": [
    "## Code for getting confidence"
   ]
  },
  {
   "cell_type": "code",
   "execution_count": 16,
   "metadata": {
    "executionInfo": {
     "elapsed": 473,
     "status": "ok",
     "timestamp": 1692149725342,
     "user": {
      "displayName": "Linus Thel",
      "userId": "02046882282261602929"
     },
     "user_tz": -120
    },
    "id": "3ciV9qDIDXY7"
   },
   "outputs": [],
   "source": [
    "def sample_from_data(model,  my_Xs_norm,  my_min=np.zeros(5), my_max=np.ones(5),\n",
    "                     n_samples=50000, num_monte_carlo=100, th_prob=0.5,\n",
    "                     verbose=True):\n",
    "  '''\n",
    "  Given some normalized features my_Xs_norm and the model, compute mu and Sigma as in the paper eq. 2.8-2.9\n",
    "  and return samples from the probability distribuion eq. 2.10\n",
    "  '''\n",
    "  Al_error, Ep_error, mean = get_mu_Sigma(model, my_Xs_norm , num_monte_carlo=num_monte_carlo, th_prob=th_prob, verbose=verbose)\n",
    "  Sigma = (Al_error+ Ep_error).numpy()\n",
    "  MM = mean.numpy()\n",
    "  if verbose:\n",
    "    print('Sigma')\n",
    "    print(np.round(Sigma, 3))\n",
    "  samples, z_samples = sample_probas(Sigma, MM, my_min=my_min,my_max=my_max, n_samples=n_samples, verbose=verbose)\n",
    "\n",
    "  return samples, z_samples, Sigma, MM\n",
    "\n",
    "\n",
    "\n",
    "def get_mu_Sigma(model, my_Xs_norm, num_monte_carlo=100, th_prob=0.5, verbose=True):\n",
    "  ''''\n",
    "  Given some normalized features my_Xs_norm and the model, compute mu and Sigma as in the paper eq. 2.8-2.9\n",
    "  '''\n",
    "  if verbose:\n",
    "    print('Computing mu and sigma...')\n",
    "  sampled_probas, _, _ = my_predict(tf.expand_dims(my_Xs_norm, axis=0), model, num_monte_carlo=num_monte_carlo, th_prob=th_prob)\n",
    "  mean = tf.reduce_mean(sampled_probas[:,0,:], axis=0)\n",
    "  _, Al_error, Ep_error = get_err_variances(sampled_probas[:,0,:])\n",
    "  return Al_error, Ep_error, mean\n",
    "\n",
    "\n",
    "def sample_probas(Sigma, MM, my_min=np.zeros(5), my_max=np.ones(5), n_samples=50000, verbose=True):\n",
    "  '''\n",
    "  Given mu and Sigma as in the paper eq. 2.8-2.9, computes B, U as described in appendix B of the paper.\n",
    "  Then calls function to sample the prob. distribution (eq. 2.10)\n",
    "  '''\n",
    "  if verbose:\n",
    "    print('Sample probas call')\n",
    "  evals, evecs = np.linalg.eig(Sigma)\n",
    "  B = evecs\n",
    "  U = B.T @ Sigma @  B\n",
    "  if verbose:\n",
    "    print('U')\n",
    "    print(np.round(U, 3))\n",
    "  n_dims=U.shape[0]-1\n",
    "  n_dims=U.shape[0]-1\n",
    "  ind_min = np.argmin(np.diag(U))\n",
    "  if verbose:\n",
    "    print('Index of min eigenvalue is: %s' %ind_min)\n",
    "    print('Min eigenvalue is: %s' %np.min(np.diag(U)))\n",
    "  UU = np.array([np.sqrt(U[i,i])  for i in range(U.shape[0]) if i!=ind_min ] )\n",
    "  if verbose:\n",
    "    print('U has %s elements ' %str(UU.shape[0]))\n",
    "  samples, z_samples = get_samples(UU, B, MM, my_min=my_min, my_max=my_max, ind_min=ind_min, n_dims=n_dims, n_samples=n_samples, verbose=verbose)\n",
    "  return samples, z_samples\n",
    "\n",
    "\n",
    "def get_samples(UU, B, MM, my_min=np.zeros(5), my_max=np.ones(5), ind_min=-1, n_dims=4, n_samples=50000, verbose=True):\n",
    "  '''\n",
    "  samples eq. 2.10 as described in appendix B\n",
    "  '''\n",
    "  if verbose:\n",
    "    print('Sampling...')\n",
    "  samples = np.zeros((0, n_dims+1))\n",
    "  z_samples = np.zeros((0, n_dims))\n",
    "  while samples.shape[0] < n_samples:\n",
    "    s = np.random.multivariate_normal( np.zeros(n_dims), np.diag(UU**2), size=(n_samples,))\n",
    "    accepted = s[(np.min(X_val_batch(s, B, MM, null_ind=ind_min)-my_min, axis=1) >= 0) & (np.max(X_val_batch(s, B, MM, null_ind=ind_min) - my_max, axis=1) <= 0)]\n",
    "    samples = np.concatenate((samples, X_val_batch(accepted, B, MM, null_ind=ind_min)), axis=0)\n",
    "    z_samples = np.concatenate((z_samples, accepted), axis=0)\n",
    "  samples = samples[:n_samples, :]\n",
    "  z_samples = z_samples[:n_samples, :]\n",
    "  if verbose:\n",
    "    print('Done.')\n",
    "  return samples, z_samples\n",
    "\n",
    "\n",
    "\n",
    "def X_val_batch(Z, B, MM, null_ind):\n",
    "  return np.array([ X_val(Z[i], B, MM, null_ind=null_ind,) for i in range(Z.shape[0])])\n",
    "\n",
    "def Z(X, B, MM):\n",
    "  '''  X must be 5-d '''\n",
    "  return B.T @ (X-MM)\n",
    "\n",
    "def X_val(Z, B, MM, null_ind=-1, verbose=False):\n",
    "  '''  Z must be 4-d , MM must be 5-d '''\n",
    "  if verbose:\n",
    "    print(Z)\n",
    "  Z = np.insert(Z, null_ind, 0)\n",
    "  if verbose:\n",
    "    print(Z)\n",
    "  return B @ Z+ MM\n",
    "\n",
    "\n",
    "def get_err_variances(prob_k, AlEp_split=True):\n",
    "  '''\n",
    "  Computes aleatoric and epistemic uncertainty from MC samples from the net. weights\n",
    "  '''\n",
    "  num_samples = prob_k.shape[0]\n",
    "  prob_mean = tf.reduce_mean(prob_k, axis=0)\n",
    "\n",
    "  diag_probs = tf.stack([np.diag(prob_k[i,:]) for i in range(num_samples)], axis=0)  # Diagonal matrix whose diagonal elements are the output of the network for the ith sample\n",
    "  outer_products_Al = tf.stack([tf.tensordot(prob_k[i,:], prob_k[i,:], axes =0) for i in range(num_samples)], axis=0) # Outer self-product of the predictive vectors for the ith sample used in computing Al uncertainty\n",
    "  outer_products_Ep = tf.stack([tf.tensordot(prob_k[i,:] - prob_mean, prob_k[i,:] - prob_mean, axes =0) for i in range(num_samples)], axis=0) # Outer self-product between the difference of the predictive vector for ith sampl and average prediction\n",
    "\n",
    "  Al_error = tf.reduce_mean(diag_probs - outer_products_Al, axis=0) # Average over all the samples to compute aleotoric uncertainty\n",
    "  Ep_error = tf.reduce_mean(outer_products_Ep, axis=0) # Average over all the samples to compute epistemic uncertainty\n",
    "\n",
    "  tot_error = Al_error + Ep_error # Combine to compute total uncertainty\n",
    "  confidences = tf.linalg.diag_part(tot_error).numpy()\n",
    "\n",
    "  if AlEp_split:\n",
    "    return confidences, Al_error, Ep_error\n",
    "  else:\n",
    "    return confidences\n",
    "\n",
    "\n",
    "\n",
    "def get_P_from_samples(samples, th_prob=0.5 ):\n",
    "  '''\n",
    "  Given samples from eq. 2.10, computes the probabilities as in eq. 2.11\n",
    "  '''\n",
    "  Ntot = samples.shape[0] #-unclassified\n",
    "  n_dims  = samples.shape[-1]\n",
    "  all_preds = np.array([predict_bayes_label(sample, th_prob=th_prob) for sample in samples])\n",
    "  unclassified=all_preds[all_preds==99].shape[0]\n",
    "\n",
    "  n_in_class = np.array([all_preds[all_preds==k].shape[0] for k in range(n_dims)])\n",
    "\n",
    "  #print('Ntot: %s  ' %Ntot)\n",
    "  p_uncl=unclassified/Ntot\n",
    "  #print('%s unclassified examples ' %unclassified)\n",
    "  #print('P(unclassified)=%s ' %p_uncl)\n",
    "  pp=n_in_class/Ntot\n",
    "  #print(pp)\n",
    "  #print(p_uncl)\n",
    "\n",
    "  return np.append(pp, p_uncl)\n",
    "\n",
    "\n",
    "def get_all_probas(X, model_loaded,\n",
    "                   n_classes=5,\n",
    "                   num_monte_carlo=100,\n",
    "                   th_prob=0.5,\n",
    "                   n_samples=10000,\n",
    "                   verbose=True):\n",
    "    '''\n",
    "    Given features X, predicts the labels with MC samples from the net,\n",
    "    computes mu and sigma, samples from the prob distribution\n",
    "    and computes P.\n",
    "    Returns result in the form of a dictionary\n",
    "    '''\n",
    "\n",
    "    # Gaussian approx\n",
    "    samples, z_samples, Sigma, MM = sample_from_data(model_loaded,\n",
    "                                                 my_Xs_norm=X,\n",
    "                                                 my_min=np.zeros(n_classes), my_max=np.ones(n_classes),\n",
    "                                                 n_samples=n_samples,\n",
    "                                                 num_monte_carlo=num_monte_carlo,\n",
    "                                                 th_prob=th_prob, verbose=verbose)\n",
    "\n",
    "    P = get_P_from_samples(samples, th_prob=th_prob)\n",
    "    if verbose:\n",
    "      print('P: %s ' %str(P))\n",
    "      print('P sum to %s' %P.sum())\n",
    "    if verbose:\n",
    "      print('mu  sum to %s' %MM.sum())\n",
    "\n",
    "\n",
    "    # Result\n",
    "    res = {'samples':samples, 'P':P, 'z_samples': z_samples, 'Sigma': Sigma, 'MM': MM,}\n",
    "    return res\n",
    "\n",
    "\n",
    "def plot_hist_1D(samples, MM, th_prob=0.5,\n",
    "                  P=None, inv_labels_dict=None,):\n",
    "  '''\n",
    "  Plots histogram of gauss samples for each class\n",
    "  '''\n",
    "\n",
    "  n_dims = samples.shape[-1]-1\n",
    "  fig, axs = plt.subplots(1, n_dims+1, sharey=True, sharex=False,figsize=(25,5))\n",
    "\n",
    "  t_str=''\n",
    "  for k in range(n_dims+1):\n",
    "\n",
    "    axs[k].hist(samples.T[k], bins=15, color = \"lightgray\",lw=0, density=True, label='Gauss samples')\n",
    "    axs[k].text(0.1, 0.9, '$\\mu = $' + '$'+ str(MM[k])+'$', fontsize = 16 , transform=axs[k].transAxes);\n",
    "    if P is  not None:\n",
    "      axs[k].text(0.1, 0.8, '$ P = $' + '$'+ str(P[k])+'$', fontsize = 16 , transform=axs[k].transAxes);\n",
    "      if k==0:\n",
    "        t_str+= 'P unclassified: %s \\n' %str(np.round(P[-1], 2) )\n",
    "    axs[k].set_xlim(0,1)\n",
    "    axs[k].set_ylim(0,10)\n",
    "\n",
    "    if inv_labels_dict is not None:\n",
    "      axs[k].set_title(inv_labels_dict[k])\n",
    "\n",
    "\n",
    "    axs[k].legend(loc='lower right')\n",
    "\n",
    "  axs[0].set_ylabel('P')\n",
    "  fig.suptitle(t_str)\n",
    "\n",
    "  plt.show()"
   ]
  },
  {
   "cell_type": "markdown",
   "metadata": {
    "id": "SKo2vnj_Nzo0"
   },
   "source": [
    "## Load models\n",
    "\n",
    "Here we load the pre trained models"
   ]
  },
  {
   "cell_type": "code",
   "execution_count": 17,
   "metadata": {
    "executionInfo": {
     "elapsed": 480,
     "status": "ok",
     "timestamp": 1692149732102,
     "user": {
      "displayName": "Linus Thel",
      "userId": "02046882282261602929"
     },
     "user_tz": -120
    },
    "id": "2YdVmL6YItLH"
   },
   "outputs": [],
   "source": [
    "# Encoding of the labels for the two networks. Can be found in the log file of the training.\n",
    "# Here it is easier to define it by hand.\n",
    "\n",
    "inv_labels_dict_5={0:'dgp', 1:'fR', 2:'lcdm', 3:'n-wcdm', 4:'rand'}\n",
    "inv_labels_dict_2={0:'lcdm', 1:'non-LCDM'}"
   ]
  },
  {
   "cell_type": "markdown",
   "metadata": {
    "id": "d9pyiC969KoE"
   },
   "source": [
    "change the model name (first parameter) in the following function"
   ]
  },
  {
   "cell_type": "code",
   "execution_count": 18,
   "metadata": {
    "colab": {
     "base_uri": "https://localhost:8080/"
    },
    "executionInfo": {
     "elapsed": 2021,
     "status": "ok",
     "timestamp": 1692149742351,
     "user": {
      "displayName": "Linus Thel",
      "userId": "02046882282261602929"
     },
     "user_tz": -120
    },
    "id": "rHuW_fpxJmvc",
    "outputId": "f96846e5-5a5b-410e-e11f-c7157f9712ff"
   },
   "outputs": [
    {
     "name": "stdout",
     "output_type": "stream",
     "text": [
      "\n",
      " -------- Loaded parameters:\n",
      "bayesian False\n",
      "test_mode False\n",
      "n_test_idx 2\n",
      "seed 1312\n",
      "fine_tune False\n",
      "one_vs_all False\n",
      "c_0 ['lcdm']\n",
      "c_1 ['dgp', 'fR', 'rand', 'wcdm']\n",
      "dataset_balanced False\n",
      "include_last False\n",
      "log_path \n",
      "restore False\n",
      "fname model_noBayes_train_100\n",
      "model_name custom\n",
      "my_path None\n",
      "DIR data/training_sets_5_100\n",
      "TEST_DIR data/test_data/\n",
      "models_dir models/\n",
      "save_ckpt True\n",
      "out_path_overwrite False\n",
      "curves_folder curve_files_sys/curve_files_train1k_sysFactor0o04_start0o03_dirChange0\n",
      "im_depth 500\n",
      "im_width 1\n",
      "im_channels 4\n",
      "swap_axes True\n",
      "sort_labels True\n",
      "norm_data_name /planck_hmcode2020.txt\n",
      "normalization stdcosmo\n",
      "sample_pace 4\n",
      "k_max 2.5\n",
      "i_max None\n",
      "add_noise True\n",
      "n_noisy_samples 10\n",
      "add_shot False\n",
      "add_sys False\n",
      "add_cosvar True\n",
      "sigma_sys 5.0\n",
      "sys_scaled None\n",
      "sys_factor None\n",
      "sys_max None\n",
      "z_bins [0, 1, 2, 3]\n",
      "n_dense 1\n",
      "filters [8, 16, 32]\n",
      "kernel_sizes [10, 5, 2]\n",
      "strides [2, 2, 1]\n",
      "pool_sizes [2, 2, 0]\n",
      "strides_pooling [2, 1, 0]\n",
      "add_FT_dense False\n",
      "trainable False\n",
      "unfreeze False\n",
      "lr 0.01\n",
      "drop 0.5\n",
      "n_epochs 70\n",
      "val_size 0.15\n",
      "test_size 0.0\n",
      "batch_size 500\n",
      "patience 100\n",
      "GPU True\n",
      "decay 0.95\n",
      "BatchNorm True\n",
      "group_lab_dict {'dgp': 'non_lcdm', 'fR': 'non_lcdm', 'rand': 'non_lcdm', 'wcdm': 'non_lcdm', 'lcdm': 'lcdm'}\n",
      "FLAGS.one_vs_all : False\n",
      "Reading model from the directory models/model_noBayes_train_100\n",
      "Input shape (100, 4)\n",
      "------------ BUILDING MODEL ------------\n",
      "\n",
      "Model n_classes : 5 \n",
      "using 1D layers and 4 channels\n",
      "Expected output dimension of layer conv1d: 46.0\n",
      "Expected output dimension of layer max_pooling1d: 23.0\n",
      "Expected output dimension of layer conv1d_1: 10.0\n",
      "Expected output dimension of layer max_pooling1d_1: 9.0\n",
      "Expected output dimension of layer conv1d_2: 8.0\n",
      "Model: \"model\"\n",
      "_________________________________________________________________\n",
      " Layer (type)                Output Shape              Param #   \n",
      "=================================================================\n",
      " input_1 (InputLayer)        [(None, 100, 4)]          0         \n",
      "                                                                 \n",
      " conv1d (Conv1D)             (None, 46, 8)             328       \n",
      "                                                                 \n",
      " max_pooling1d (MaxPooling1D  (None, 23, 8)            0         \n",
      " )                                                               \n",
      "                                                                 \n",
      " batch_normalization (BatchN  (None, 23, 8)            32        \n",
      " ormalization)                                                   \n",
      "                                                                 \n",
      " conv1d_1 (Conv1D)           (None, 10, 16)            656       \n",
      "                                                                 \n",
      " max_pooling1d_1 (MaxPooling  (None, 9, 16)            0         \n",
      " 1D)                                                             \n",
      "                                                                 \n",
      " batch_normalization_1 (Batc  (None, 9, 16)            64        \n",
      " hNormalization)                                                 \n",
      "                                                                 \n",
      " conv1d_2 (Conv1D)           (None, 8, 32)             1056      \n",
      "                                                                 \n",
      " batch_normalization_2 (Batc  (None, 8, 32)            128       \n",
      " hNormalization)                                                 \n",
      "                                                                 \n",
      " global_average_pooling1d (G  (None, 32)               0         \n",
      " lobalAveragePooling1D)                                          \n",
      "                                                                 \n",
      " dense (Dense)               (None, 32)                1056      \n",
      "                                                                 \n",
      " batch_normalization_3 (Batc  (None, 32)               128       \n",
      " hNormalization)                                                 \n",
      "                                                                 \n",
      " dense_1 (Dense)             (None, 5)                 165       \n",
      "                                                                 \n",
      "=================================================================\n",
      "Total params: 3,613\n",
      "Trainable params: 3,437\n",
      "Non-trainable params: 176\n",
      "_________________________________________________________________\n"
     ]
    },
    {
     "name": "stderr",
     "output_type": "stream",
     "text": [
      "WARNING:absl:`lr` is deprecated in Keras optimizer, please use `learning_rate` or use the legacy optimizer, e.g.,tf.keras.optimizers.legacy.Adam.\n"
     ]
    },
    {
     "name": "stdout",
     "output_type": "stream",
     "text": [
      "None\n",
      "------------ RESTORING CHECKPOINT ------------\n",
      "\n",
      "Looking for ckpt in models/model_noBayes_train_100/tf_ckpts/\n",
      "Restoring checkpoint from models/model_noBayes_train_100/tf_ckpts/ckpt-30\n"
     ]
    }
   ],
   "source": [
    "model_5 = get_pre_trained_model('model_withBayes_GPU_train_100', 5, (100, 4) )"
   ]
  },
  {
   "cell_type": "markdown",
   "metadata": {
    "id": "9WV6117ZOqdF"
   },
   "source": [
    "## Loading a trained network and applying it to a single file\n",
    "\n",
    "Template for loading spectra. Suppose you saved the spectrum in\n",
    "'data/example_spectra/my_ex.txt' . The spectrum is in 4 redshift bins and with 100 points between 0.01 - 2.5 in k . We normalize by the reference planck spectrum and add gaussian noise, then pass it to the five-label network."
   ]
  },
  {
   "cell_type": "markdown",
   "metadata": {
    "id": "7I0W-Yd0YERw"
   },
   "source": [
    "Load normalization data first"
   ]
  },
  {
   "cell_type": "code",
   "execution_count": null,
   "metadata": {
    "id": "FirJ3GM5YDgl"
   },
   "outputs": [],
   "source": [
    "sample_pace=4 # the planck data were generated with 500 points up to k=10 . We need 1 every 4 points, and to cut to k_max=2.5\n",
    "i_max=100\n",
    "\n",
    "planck = np.loadtxt('data/planck_ee2.txt')[:, 1:][::sample_pace][:i_max]"
   ]
  },
  {
   "cell_type": "code",
   "execution_count": null,
   "metadata": {
    "colab": {
     "base_uri": "https://localhost:8080/"
    },
    "executionInfo": {
     "elapsed": 222,
     "status": "ok",
     "timestamp": 1692054677626,
     "user": {
      "displayName": "Linus Thel",
      "userId": "02046882282261602929"
     },
     "user_tz": -120
    },
    "id": "4S0HfNLeLsiv",
    "outputId": "6351eef7-7671-43c9-b708-82f0203c7607"
   },
   "outputs": [
    {
     "name": "stdout",
     "output_type": "stream",
     "text": [
      "loaded data shape: (500, 5)\n",
      "k, X  shape: (500,), (500, 4)\n",
      "X  shape after sample pace:  (125, 4)\n",
      "X  shape after k max: (100, 4)\n",
      "planck data shape: (100, 4)\n"
     ]
    }
   ],
   "source": [
    "k, X_fR = load_X('data/test_sets_5_10/fr/1.txt',\n",
    "                 sample_pace=sample_pace, i_max=100,\n",
    "                 norm_data=planck,\n",
    "                 add_noise=False, normalise=True, use_sample_pace=True)"
   ]
  },
  {
   "cell_type": "markdown",
   "metadata": {
    "id": "C_01rSvQTjrT"
   },
   "source": [
    "Let's look at the input features as seen by the network."
   ]
  },
  {
   "cell_type": "code",
   "execution_count": null,
   "metadata": {
    "colab": {
     "base_uri": "https://localhost:8080/",
     "height": 433
    },
    "executionInfo": {
     "elapsed": 1184,
     "status": "ok",
     "timestamp": 1692054688420,
     "user": {
      "displayName": "Linus Thel",
      "userId": "02046882282261602929"
     },
     "user_tz": -120
    },
    "id": "MhtjvSiCTiux",
    "outputId": "a3509110-80aa-471c-99ea-cf5cf8c4c779"
   },
   "outputs": [
    {
     "data": {
      "image/png": "[encoded data removed]",
      "text/plain": [
       "<Figure size 640x480 with 1 Axes>"
      ]
     },
     "metadata": {},
     "output_type": "display_data"
    }
   ],
   "source": [
    "plt.plot(k, X_fR);\n",
    "plt.xscale('log');"
   ]
  },
  {
   "cell_type": "markdown",
   "metadata": {
    "id": "GZgUlHtZrvG7"
   },
   "source": [
    "## Classify your spectra and compute confidence\n",
    "### (for Bayesian networks only)"
   ]
  },
  {
   "cell_type": "code",
   "execution_count": null,
   "metadata": {
    "colab": {
     "base_uri": "https://localhost:8080/"
    },
    "executionInfo": {
     "elapsed": 4197,
     "status": "ok",
     "timestamp": 1692054726378,
     "user": {
      "displayName": "Linus Thel",
      "userId": "02046882282261602929"
     },
     "user_tz": -120
    },
    "id": "RKNL6te3ruT0",
    "outputId": "6fd45f37-4726-4c5c-a043-7bf4ae3ec0d6"
   },
   "outputs": [
    {
     "name": "stdout",
     "output_type": "stream",
     "text": [
      "Computing mu and sigma...\n",
      "Sigma\n",
      "[[ 0.012 -0.007 -0.005 -0.001 -0.   ]\n",
      " [-0.007  0.249 -0.213 -0.029 -0.   ]\n",
      " [-0.005 -0.213  0.24  -0.022 -0.   ]\n",
      " [-0.001 -0.029 -0.022  0.052 -0.   ]\n",
      " [-0.    -0.    -0.    -0.     0.   ]]\n",
      "Sample probas call\n",
      "U\n",
      "[[ 0.457 -0.     0.    -0.    -0.   ]\n",
      " [-0.     0.08  -0.    -0.     0.   ]\n",
      " [ 0.    -0.     0.016 -0.     0.   ]\n",
      " [-0.    -0.     0.    -0.     0.   ]\n",
      " [-0.    -0.    -0.     0.     0.   ]]\n",
      "Index of min eigenvalue is: 3\n",
      "Min eigenvalue is: -2.0372224e-09\n",
      "U has 4 elements \n",
      "Sampling...\n",
      "Done.\n",
      "P: [0.    0.307 0.279 0.021 0.    0.393] \n",
      "P sum to 1.0\n",
      "mu  sum to 0.99999994\n"
     ]
    }
   ],
   "source": [
    "res_fR = get_all_probas(X_fR,\n",
    "                        model_5,\n",
    "                        n_classes=5,\n",
    "                        num_monte_carlo=5,\n",
    "                        th_prob=0.5,\n",
    "                        n_samples=1000)"
   ]
  },
  {
   "cell_type": "code",
   "execution_count": null,
   "metadata": {
    "colab": {
     "base_uri": "https://localhost:8080/",
     "height": 368
    },
    "executionInfo": {
     "elapsed": 1337,
     "status": "ok",
     "timestamp": 1692054734678,
     "user": {
      "displayName": "Linus Thel",
      "userId": "02046882282261602929"
     },
     "user_tz": -120
    },
    "id": "vVXx5ejLsG-i",
    "outputId": "8e1c5642-300d-4a57-82a0-f76f78b44ae3"
   },
   "outputs": [
    {
     "name": "stdout",
     "output_type": "stream",
     "text": [
      "P-non-LCDM=0.7210000000000001\n"
     ]
    },
    {
     "data": {
      "image/png": "[encoded data removed]",
      "text/plain": [
       "<Figure size 2500x500 with 5 Axes>"
      ]
     },
     "metadata": {},
     "output_type": "display_data"
    }
   ],
   "source": [
    "print('P-non-LCDM=%s' %(np.delete(res_fR['P'], [2]).sum()))\n",
    "plot_hist_1D(res_fR['samples'],\n",
    "             res_fR['MM'],\n",
    "             th_prob=0.5,\n",
    "             P=res_fR['P'],\n",
    "             inv_labels_dict=inv_labels_dict_5)\n"
   ]
  }
 ],
 "metadata": {
  "accelerator": "GPU",
  "colab": {
   "gpuType": "T4",
   "provenance": [
    {
     "file_id": "1Jq2QNgbuh3VFC7CtsGz0eIaFbnFb4f11",
     "timestamp": 1692050729947
    }
   ]
  },
  "kernelspec": {
   "display_name": "Python 3 (ipykernel)",
   "language": "python",
   "name": "python3"
  },
  "language_info": {
   "codemirror_mode": {
    "name": "ipython",
    "version": 3
   },
   "file_extension": ".py",
   "mimetype": "text/x-python",
   "name": "python",
   "nbconvert_exporter": "python",
   "pygments_lexer": "ipython3",
   "version": "3.9.12"
  }
 },
 "nbformat": 4,
 "nbformat_minor": 4
}
